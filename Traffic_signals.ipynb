{
  "nbformat": 4,
  "nbformat_minor": 0,
  "metadata": {
    "colab": {
      "name": "Traffic-signals.ipynb",
      "provenance": [],
      "collapsed_sections": []
    },
    "kernelspec": {
      "name": "python3",
      "display_name": "Python 3"
    },
    "language_info": {
      "name": "python"
    }
  },
  "cells": [
    {
      "cell_type": "code",
      "metadata": {
        "colab": {
          "base_uri": "https://localhost:8080/",
          "height": 35
        },
        "id": "wxkm2M0IkcnG",
        "outputId": "9b0cec8d-0dbc-483b-afa2-4fe8159427da"
      },
      "source": [
        "import tensorflow as tf\n",
        "tf.__version__"
      ],
      "execution_count": 1,
      "outputs": [
        {
          "output_type": "execute_result",
          "data": {
            "application/vnd.google.colaboratory.intrinsic+json": {
              "type": "string"
            },
            "text/plain": [
              "'2.5.0'"
            ]
          },
          "metadata": {
            "tags": []
          },
          "execution_count": 1
        }
      ]
    },
    {
      "cell_type": "code",
      "metadata": {
        "colab": {
          "base_uri": "https://localhost:8080/",
          "height": 0
        },
        "id": "HUZeRnE1kyHQ",
        "outputId": "078d4a89-2972-4f9c-827c-47047d7943d5"
      },
      "source": [
        "from google.colab import drive\n",
        "drive.mount('/content/drive')"
      ],
      "execution_count": 2,
      "outputs": [
        {
          "output_type": "stream",
          "text": [
            "Drive already mounted at /content/drive; to attempt to forcibly remount, call drive.mount(\"/content/drive\", force_remount=True).\n"
          ],
          "name": "stdout"
        }
      ]
    },
    {
      "cell_type": "code",
      "metadata": {
        "colab": {
          "base_uri": "https://localhost:8080/",
          "height": 35
        },
        "id": "5AJzcwEKm6Os",
        "outputId": "6c9eab1e-2d15-4713-cb84-14e2d2e3ad7e"
      },
      "source": [
        "pwd #check where you are"
      ],
      "execution_count": 3,
      "outputs": [
        {
          "output_type": "execute_result",
          "data": {
            "application/vnd.google.colaboratory.intrinsic+json": {
              "type": "string"
            },
            "text/plain": [
              "'/content'"
            ]
          },
          "metadata": {
            "tags": []
          },
          "execution_count": 3
        }
      ]
    },
    {
      "cell_type": "code",
      "metadata": {
        "colab": {
          "base_uri": "https://localhost:8080/",
          "height": 0
        },
        "id": "4idG_SXxm8UO",
        "outputId": "cc2c9c29-7b84-404b-ee0c-77fcaf1fb10d"
      },
      "source": [
        "cd /content/drive/MyDrive/Colab Notebooks/Traffic-signals"
      ],
      "execution_count": 4,
      "outputs": [
        {
          "output_type": "stream",
          "text": [
            "/content/drive/MyDrive/Colab Notebooks/Traffic-signals\n"
          ],
          "name": "stdout"
        }
      ]
    },
    {
      "cell_type": "code",
      "metadata": {
        "colab": {
          "base_uri": "https://localhost:8080/",
          "height": 35
        },
        "id": "yQ3cB2g_nAcv",
        "outputId": "ed3cb459-6e79-46c2-aeb9-6a18ddef578c"
      },
      "source": [
        "pwd"
      ],
      "execution_count": 5,
      "outputs": [
        {
          "output_type": "execute_result",
          "data": {
            "application/vnd.google.colaboratory.intrinsic+json": {
              "type": "string"
            },
            "text/plain": [
              "'/content/drive/MyDrive/Colab Notebooks/Traffic-signals'"
            ]
          },
          "metadata": {
            "tags": []
          },
          "execution_count": 5
        }
      ]
    },
    {
      "cell_type": "code",
      "metadata": {
        "colab": {
          "base_uri": "https://localhost:8080/",
          "height": 0
        },
        "id": "uORbb7O1nBfg",
        "outputId": "304aab23-e752-401b-97ad-5ebff96e06ea"
      },
      "source": [
        "ls #Check the files inside the folder where you're now"
      ],
      "execution_count": 6,
      "outputs": [
        {
          "output_type": "stream",
          "text": [
            "'Labels Mapping.gdoc'   Traffic-signals.ipynb    valid.p\n",
            " test.p                 traffic-signs-data.zip\n",
            " Traffic-signals.h5     train.p\n"
          ],
          "name": "stdout"
        }
      ]
    },
    {
      "cell_type": "markdown",
      "metadata": {
        "id": "lE7KmV7ux0sr"
      },
      "source": [
        "## Download the dataset"
      ]
    },
    {
      "cell_type": "code",
      "metadata": {
        "id": "GAOEKQNXnCVy"
      },
      "source": [
        "#link dataset\n",
        "link = \"https://d17h27t6h515a5.cloudfront.net/topher/2017/February/5898cd6f_traffic-signs-data/traffic-signs-data.zip\""
      ],
      "execution_count": 7,
      "outputs": []
    },
    {
      "cell_type": "code",
      "metadata": {
        "colab": {
          "base_uri": "https://localhost:8080/",
          "height": 0
        },
        "id": "cr39iRXqngbc",
        "outputId": "637340bf-b185-47f9-b088-de937fbdaa9a"
      },
      "source": [
        "!pip install wget #command line"
      ],
      "execution_count": 8,
      "outputs": [
        {
          "output_type": "stream",
          "text": [
            "Collecting wget\n",
            "  Downloading https://files.pythonhosted.org/packages/47/6a/62e288da7bcda82b935ff0c6cfe542970f04e29c756b0e147251b2fb251f/wget-3.2.zip\n",
            "Building wheels for collected packages: wget\n",
            "  Building wheel for wget (setup.py) ... \u001b[?25l\u001b[?25hdone\n",
            "  Created wheel for wget: filename=wget-3.2-cp37-none-any.whl size=9675 sha256=7cb458688a7f564ecb47cabfab11e6b5ba08f61a4172648354be4d42eef30376\n",
            "  Stored in directory: /root/.cache/pip/wheels/40/15/30/7d8f7cea2902b4db79e3fea550d7d7b85ecb27ef992b618f3f\n",
            "Successfully built wget\n",
            "Installing collected packages: wget\n",
            "Successfully installed wget-3.2\n"
          ],
          "name": "stdout"
        }
      ]
    },
    {
      "cell_type": "code",
      "metadata": {
        "colab": {
          "base_uri": "https://localhost:8080/",
          "height": 35
        },
        "id": "g0uLdDjknmit",
        "outputId": "102ac078-a939-4b5d-df66-ada6fa00f629"
      },
      "source": [
        "import wget\n",
        "#wget.download(link) #only run one time\n",
        "#download the dataset inside the folder where you are now, using pwd to find where you are"
      ],
      "execution_count": 9,
      "outputs": [
        {
          "output_type": "execute_result",
          "data": {
            "application/vnd.google.colaboratory.intrinsic+json": {
              "type": "string"
            },
            "text/plain": [
              "'traffic-signs-data (1).zip'"
            ]
          },
          "metadata": {
            "tags": []
          },
          "execution_count": 9
        }
      ]
    },
    {
      "cell_type": "code",
      "metadata": {
        "id": "EGjzLLGMnoGX"
      },
      "source": [
        "data = \"./\" #unzip your dataset file at your present position"
      ],
      "execution_count": 10,
      "outputs": []
    },
    {
      "cell_type": "code",
      "metadata": {
        "colab": {
          "base_uri": "https://localhost:8080/",
          "height": 0
        },
        "id": "f7c_Axetn0op",
        "outputId": "6e40f9a0-457a-47b6-dbba-07fd5cb1959c"
      },
      "source": [
        "!unzip -q traffic-signs-data.zip -d $data"
      ],
      "execution_count": 11,
      "outputs": [
        {
          "output_type": "stream",
          "text": [
            "replace ./test.p? [y]es, [n]o, [A]ll, [N]one, [r]ename: y\n",
            "replace ./train.p? [y]es, [n]o, [A]ll, [N]one, [r]ename: y\n",
            "replace ./valid.p? [y]es, [n]o, [A]ll, [N]one, [r]ename: y\n"
          ],
          "name": "stdout"
        }
      ]
    },
    {
      "cell_type": "markdown",
      "metadata": {
        "id": "YLUHqoVSh0xk"
      },
      "source": [
        "# Run from here"
      ]
    },
    {
      "cell_type": "code",
      "metadata": {
        "id": "sfjj1HIroTNN"
      },
      "source": [
        "#Create the links for each of your train/valid/test set\n",
        "train_link = data + \"train.p\"\n",
        "valid_link = data + \"valid.p\"\n",
        "test_link = data + \"test.p\""
      ],
      "execution_count": 12,
      "outputs": []
    },
    {
      "cell_type": "code",
      "metadata": {
        "id": "7CaTsU-upc6m"
      },
      "source": [
        "import pickle"
      ],
      "execution_count": 13,
      "outputs": []
    },
    {
      "cell_type": "code",
      "metadata": {
        "id": "M0yJPQdhpe8l"
      },
      "source": [
        "# \"rb\": read binary\n",
        "with open(train_link, mode=\"rb\") as f: #f means \"file\"\n",
        "  train = pickle.load(f)"
      ],
      "execution_count": 14,
      "outputs": []
    },
    {
      "cell_type": "code",
      "metadata": {
        "id": "4JW9tTmOr5Xu"
      },
      "source": [
        "# read valid set\n",
        "with open(valid_link, mode=\"rb\") as f:\n",
        "  valid = pickle.load(f)"
      ],
      "execution_count": 15,
      "outputs": []
    },
    {
      "cell_type": "code",
      "metadata": {
        "id": "txUIdC-YsEfE"
      },
      "source": [
        "# read train set\n",
        "with open(test_link, mode=\"rb\") as f:\n",
        "  test = pickle.load(f)"
      ],
      "execution_count": 16,
      "outputs": []
    },
    {
      "cell_type": "markdown",
      "metadata": {
        "id": "tuM0syhKxw_G"
      },
      "source": [
        "## Explore the dataset"
      ]
    },
    {
      "cell_type": "code",
      "metadata": {
        "colab": {
          "base_uri": "https://localhost:8080/",
          "height": 0
        },
        "id": "fyTP6x4eswFy",
        "outputId": "9568c0d1-35b8-4dd6-c15b-58334ffab3c1"
      },
      "source": [
        "train"
      ],
      "execution_count": 17,
      "outputs": [
        {
          "output_type": "execute_result",
          "data": {
            "text/plain": [
              "{'coords': array([[  6,   5,  21,  20],\n",
              "        [  6,   6,  22,  22],\n",
              "        [  5,   6,  22,  23],\n",
              "        ...,\n",
              "        [ 17,  15, 178, 155],\n",
              "        [ 17,  15, 183, 160],\n",
              "        [ 20,  18, 211, 184]], dtype=uint8),\n",
              " 'features': array([[[[ 28,  25,  24],\n",
              "          [ 27,  24,  23],\n",
              "          [ 27,  24,  22],\n",
              "          ...,\n",
              "          [ 32,  28,  24],\n",
              "          [ 31,  27,  25],\n",
              "          [ 31,  27,  26]],\n",
              " \n",
              "         [[ 29,  26,  25],\n",
              "          [ 27,  25,  23],\n",
              "          [ 27,  25,  23],\n",
              "          ...,\n",
              "          [ 32,  28,  24],\n",
              "          [ 31,  27,  24],\n",
              "          [ 30,  27,  25]],\n",
              " \n",
              "         [[ 28,  26,  26],\n",
              "          [ 27,  25,  23],\n",
              "          [ 26,  25,  23],\n",
              "          ...,\n",
              "          [ 32,  28,  24],\n",
              "          [ 31,  27,  24],\n",
              "          [ 30,  27,  25]],\n",
              " \n",
              "         ...,\n",
              " \n",
              "         [[ 27,  24,  23],\n",
              "          [ 28,  25,  24],\n",
              "          [ 30,  25,  24],\n",
              "          ...,\n",
              "          [ 27,  24,  23],\n",
              "          [ 28,  24,  22],\n",
              "          [ 29,  25,  22]],\n",
              " \n",
              "         [[ 28,  23,  23],\n",
              "          [ 29,  24,  24],\n",
              "          [ 31,  25,  24],\n",
              "          ...,\n",
              "          [ 27,  24,  23],\n",
              "          [ 28,  24,  22],\n",
              "          [ 28,  24,  21]],\n",
              " \n",
              "         [[ 29,  23,  23],\n",
              "          [ 30,  24,  24],\n",
              "          [ 32,  24,  23],\n",
              "          ...,\n",
              "          [ 27,  24,  22],\n",
              "          [ 27,  23,  21],\n",
              "          [ 26,  22,  20]]],\n",
              " \n",
              " \n",
              "        [[[ 28,  24,  24],\n",
              "          [ 26,  23,  23],\n",
              "          [ 27,  24,  24],\n",
              "          ...,\n",
              "          [ 31,  28,  26],\n",
              "          [ 31,  28,  27],\n",
              "          [ 32,  28,  27]],\n",
              " \n",
              "         [[ 27,  24,  24],\n",
              "          [ 27,  24,  24],\n",
              "          [ 28,  25,  24],\n",
              "          ...,\n",
              "          [ 31,  27,  25],\n",
              "          [ 31,  27,  26],\n",
              "          [ 33,  29,  27]],\n",
              " \n",
              "         [[ 26,  24,  24],\n",
              "          [ 26,  24,  24],\n",
              "          [ 27,  24,  23],\n",
              "          ...,\n",
              "          [ 31,  26,  25],\n",
              "          [ 31,  27,  26],\n",
              "          [ 33,  29,  27]],\n",
              " \n",
              "         ...,\n",
              " \n",
              "         [[ 28,  25,  23],\n",
              "          [ 30,  27,  24],\n",
              "          [ 30,  27,  24],\n",
              "          ...,\n",
              "          [ 27,  24,  22],\n",
              "          [ 27,  24,  22],\n",
              "          [ 28,  24,  22]],\n",
              " \n",
              "         [[ 27,  24,  22],\n",
              "          [ 29,  26,  23],\n",
              "          [ 31,  26,  24],\n",
              "          ...,\n",
              "          [ 26,  23,  21],\n",
              "          [ 27,  24,  22],\n",
              "          [ 28,  25,  23]],\n",
              " \n",
              "         [[ 28,  24,  23],\n",
              "          [ 28,  24,  22],\n",
              "          [ 29,  24,  22],\n",
              "          ...,\n",
              "          [ 27,  23,  22],\n",
              "          [ 27,  24,  23],\n",
              "          [ 29,  26,  25]]],\n",
              " \n",
              " \n",
              "        [[[ 29,  25,  25],\n",
              "          [ 29,  26,  26],\n",
              "          [ 30,  27,  27],\n",
              "          ...,\n",
              "          [ 31,  27,  24],\n",
              "          [ 31,  28,  25],\n",
              "          [ 32,  29,  27]],\n",
              " \n",
              "         [[ 27,  24,  24],\n",
              "          [ 27,  25,  25],\n",
              "          [ 28,  26,  26],\n",
              "          ...,\n",
              "          [ 31,  27,  23],\n",
              "          [ 32,  28,  25],\n",
              "          [ 33,  30,  27]],\n",
              " \n",
              "         [[ 27,  24,  24],\n",
              "          [ 28,  26,  26],\n",
              "          [ 29,  27,  27],\n",
              "          ...,\n",
              "          [ 32,  28,  24],\n",
              "          [ 32,  28,  24],\n",
              "          [ 33,  29,  26]],\n",
              " \n",
              "         ...,\n",
              " \n",
              "         [[ 28,  26,  22],\n",
              "          [ 29,  26,  21],\n",
              "          [ 31,  26,  22],\n",
              "          ...,\n",
              "          [ 29,  24,  21],\n",
              "          [ 28,  23,  20],\n",
              "          [ 28,  23,  22]],\n",
              " \n",
              "         [[ 27,  26,  23],\n",
              "          [ 28,  25,  21],\n",
              "          [ 30,  25,  22],\n",
              "          ...,\n",
              "          [ 28,  23,  21],\n",
              "          [ 27,  22,  20],\n",
              "          [ 28,  24,  22]],\n",
              " \n",
              "         [[ 29,  26,  23],\n",
              "          [ 28,  24,  21],\n",
              "          [ 29,  24,  21],\n",
              "          ...,\n",
              "          [ 29,  25,  23],\n",
              "          [ 28,  24,  22],\n",
              "          [ 30,  26,  24]]],\n",
              " \n",
              " \n",
              "        ...,\n",
              " \n",
              " \n",
              "        [[[ 51,  67,  86],\n",
              "          [ 55,  59,  71],\n",
              "          [ 75,  81,  92],\n",
              "          ...,\n",
              "          [250, 248, 243],\n",
              "          [207, 212, 233],\n",
              "          [121, 116, 140]],\n",
              " \n",
              "         [[ 35,  42,  49],\n",
              "          [ 48,  47,  51],\n",
              "          [ 91,  96, 113],\n",
              "          ...,\n",
              "          [220, 224, 226],\n",
              "          [169, 177, 187],\n",
              "          [ 84,  87, 100]],\n",
              " \n",
              "         [[ 27,  26,  29],\n",
              "          [ 41,  38,  39],\n",
              "          [ 55,  64,  78],\n",
              "          ...,\n",
              "          [122, 143, 160],\n",
              "          [ 97, 104, 129],\n",
              "          [ 59,  59,  56]],\n",
              " \n",
              "         ...,\n",
              " \n",
              "         [[ 24,  23,  27],\n",
              "          [ 21,  20,  27],\n",
              "          [ 20,  19,  22],\n",
              "          ...,\n",
              "          [ 76,  79,  83],\n",
              "          [ 54,  64,  77],\n",
              "          [ 45,  51,  65]],\n",
              " \n",
              "         [[ 31,  31,  33],\n",
              "          [ 22,  23,  29],\n",
              "          [ 20,  18,  21],\n",
              "          ...,\n",
              "          [ 66,  67,  84],\n",
              "          [ 56,  65,  74],\n",
              "          [ 45,  55,  73]],\n",
              " \n",
              "         [[ 28,  28,  30],\n",
              "          [ 22,  21,  25],\n",
              "          [ 19,  18,  19],\n",
              "          ...,\n",
              "          [ 67,  63,  76],\n",
              "          [ 39,  45,  55],\n",
              "          [ 32,  37,  47]]],\n",
              " \n",
              " \n",
              "        [[[ 82,  78,  96],\n",
              "          [120, 126, 148],\n",
              "          [112, 125, 146],\n",
              "          ...,\n",
              "          [185, 182, 177],\n",
              "          [204, 210, 215],\n",
              "          [132, 114, 121]],\n",
              " \n",
              "         [[ 74,  77,  93],\n",
              "          [171, 174, 185],\n",
              "          [137, 164, 184],\n",
              "          ...,\n",
              "          [180, 181, 187],\n",
              "          [198, 200, 213],\n",
              "          [ 79,  85,  85]],\n",
              " \n",
              "         [[ 54,  50,  56],\n",
              "          [100, 106, 118],\n",
              "          [117, 132, 158],\n",
              "          ...,\n",
              "          [157, 153, 160],\n",
              "          [176, 183, 199],\n",
              "          [ 88,  80,  82]],\n",
              " \n",
              "         ...,\n",
              " \n",
              "         [[ 22,  21,  22],\n",
              "          [ 20,  19,  19],\n",
              "          [ 18,  16,  19],\n",
              "          ...,\n",
              "          [ 50,  50,  60],\n",
              "          [ 37,  43,  52],\n",
              "          [ 30,  41,  59]],\n",
              " \n",
              "         [[ 18,  16,  18],\n",
              "          [ 19,  17,  18],\n",
              "          [ 19,  18,  21],\n",
              "          ...,\n",
              "          [ 36,  44,  60],\n",
              "          [ 33,  36,  48],\n",
              "          [ 36,  43,  61]],\n",
              " \n",
              "         [[ 18,  17,  20],\n",
              "          [ 21,  20,  23],\n",
              "          [ 24,  22,  25],\n",
              "          ...,\n",
              "          [ 32,  34,  41],\n",
              "          [ 45,  42,  48],\n",
              "          [ 41,  43,  52]]],\n",
              " \n",
              " \n",
              "        [[[ 69,  79,  96],\n",
              "          [ 24,  26,  28],\n",
              "          [ 40,  42,  45],\n",
              "          ...,\n",
              "          [225, 234, 237],\n",
              "          [151, 161, 166],\n",
              "          [164, 162, 169]],\n",
              " \n",
              "         [[ 99, 110, 125],\n",
              "          [ 36,  41,  47],\n",
              "          [ 63,  56,  62],\n",
              "          ...,\n",
              "          [197, 216, 224],\n",
              "          [154, 163, 169],\n",
              "          [164, 163, 159]],\n",
              " \n",
              "         [[104, 107, 113],\n",
              "          [ 34,  37,  40],\n",
              "          [ 72,  70,  77],\n",
              "          ...,\n",
              "          [223, 237, 235],\n",
              "          [181, 192, 198],\n",
              "          [166, 167, 159]],\n",
              " \n",
              "         ...,\n",
              " \n",
              "         [[ 21,  20,  23],\n",
              "          [ 23,  24,  30],\n",
              "          [ 19,  20,  24],\n",
              "          ...,\n",
              "          [ 45,  47,  54],\n",
              "          [ 58,  62,  70],\n",
              "          [ 58,  70,  82]],\n",
              " \n",
              "         [[ 18,  17,  21],\n",
              "          [ 19,  19,  24],\n",
              "          [ 18,  18,  23],\n",
              "          ...,\n",
              "          [ 36,  36,  40],\n",
              "          [ 58,  59,  70],\n",
              "          [ 61,  69,  81]],\n",
              " \n",
              "         [[ 17,  16,  19],\n",
              "          [ 16,  15,  18],\n",
              "          [ 16,  15,  18],\n",
              "          ...,\n",
              "          [ 40,  40,  44],\n",
              "          [ 57,  62,  73],\n",
              "          [ 57,  68,  80]]]], dtype=uint8),\n",
              " 'labels': array([41, 41, 41, ..., 25, 25, 25], dtype=uint8),\n",
              " 'sizes': array([[ 26,  25],\n",
              "        [ 27,  27],\n",
              "        [ 27,  28],\n",
              "        ...,\n",
              "        [194, 169],\n",
              "        [201, 175],\n",
              "        [230, 201]], dtype=uint8)}"
            ]
          },
          "metadata": {
            "tags": []
          },
          "execution_count": 17
        }
      ]
    },
    {
      "cell_type": "code",
      "metadata": {
        "id": "sqdIBjkwsc1X"
      },
      "source": [
        "# Find the name of the dictionary by the cell above\n",
        "x_train = train['features']\n",
        "y_train = train['labels']"
      ],
      "execution_count": 18,
      "outputs": []
    },
    {
      "cell_type": "code",
      "metadata": {
        "colab": {
          "base_uri": "https://localhost:8080/",
          "height": 0
        },
        "id": "sehZX34ns80E",
        "outputId": "aa307a5a-de47-4055-ea8c-336d11359f96"
      },
      "source": [
        "x_train.shape"
      ],
      "execution_count": 19,
      "outputs": [
        {
          "output_type": "execute_result",
          "data": {
            "text/plain": [
              "(34799, 32, 32, 3)"
            ]
          },
          "metadata": {
            "tags": []
          },
          "execution_count": 19
        }
      ]
    },
    {
      "cell_type": "markdown",
      "metadata": {
        "id": "RxnobNJ4ugnh"
      },
      "source": [
        "34799 is the number of pictures with size 32*32 pixels each that has 3 colors (RGB)"
      ]
    },
    {
      "cell_type": "code",
      "metadata": {
        "colab": {
          "base_uri": "https://localhost:8080/",
          "height": 0
        },
        "id": "gbo4e0njs-Zh",
        "outputId": "2b5fcaa7-d446-4563-e100-e0188abefae8"
      },
      "source": [
        "x_train[0].shape # Dimensions of the first picture"
      ],
      "execution_count": 20,
      "outputs": [
        {
          "output_type": "execute_result",
          "data": {
            "text/plain": [
              "(32, 32, 3)"
            ]
          },
          "metadata": {
            "tags": []
          },
          "execution_count": 20
        }
      ]
    },
    {
      "cell_type": "code",
      "metadata": {
        "id": "A98M8nG_tev-"
      },
      "source": [
        "import matplotlib.pyplot as plt"
      ],
      "execution_count": 21,
      "outputs": []
    },
    {
      "cell_type": "code",
      "metadata": {
        "colab": {
          "base_uri": "https://localhost:8080/",
          "height": 283
        },
        "id": "hZPU5NhEtuI7",
        "outputId": "67aa906f-8942-43d0-bd2f-fb5636cbac73"
      },
      "source": [
        "plt.imshow(x_train[1013]) # Show the image of index 1013"
      ],
      "execution_count": 22,
      "outputs": [
        {
          "output_type": "execute_result",
          "data": {
            "text/plain": [
              "<matplotlib.image.AxesImage at 0x7f61cd8b8950>"
            ]
          },
          "metadata": {
            "tags": []
          },
          "execution_count": 22
        },
        {
          "output_type": "display_data",
          "data": {
            "image/png": "[encoded data removed]",
            "text/plain": [
              "<Figure size 432x288 with 1 Axes>"
            ]
          },
          "metadata": {
            "tags": [],
            "needs_background": "light"
          }
        }
      ]
    },
    {
      "cell_type": "code",
      "metadata": {
        "colab": {
          "base_uri": "https://localhost:8080/",
          "height": 0
        },
        "id": "RO86hq_HvmMH",
        "outputId": "f4546b62-2108-4de1-e7a4-18dcfc4d69ea"
      },
      "source": [
        "y_train[1013] # Labels of the image of index 1013 above"
      ],
      "execution_count": 23,
      "outputs": [
        {
          "output_type": "execute_result",
          "data": {
            "text/plain": [
              "36"
            ]
          },
          "metadata": {
            "tags": []
          },
          "execution_count": 23
        }
      ]
    },
    {
      "cell_type": "code",
      "metadata": {
        "id": "UK9a5p1uwRLB"
      },
      "source": [
        "# Access classNames of each label\n",
        "classNames = {\n",
        " 0: 'Speed limit (20km/h)',\n",
        " 1: 'Speed limit (30km/h)',\n",
        " 2: 'Speed limit (50km/h)',\n",
        " 3: 'Speed limit (60km/h)',\n",
        " 4: 'Speed limit (70km/h)',\n",
        " 5: 'Speed limit (80km/h)',\n",
        " 6: 'End of speed limit (80km/h)',\n",
        " 7: 'Speed limit (100km/h)',\n",
        " 8: 'Speed limit (120km/h)',\n",
        " 9: 'No passing',\n",
        " 10: 'No passing for vehicles over 3.5 metric tons',\n",
        " 11: 'Right-of-way at the next intersection',\n",
        " 12: 'Priority road',\n",
        " 13: 'Yield',\n",
        " 14: 'Stop',\n",
        " 15: 'No vehicles',\n",
        " 16: 'Vehicles over 3.5 metric tons prohibited',\n",
        " 17: 'No entry',\n",
        " 18: 'General caution',\n",
        " 19: 'Dangerous curve to the left',\n",
        " 20: 'Dangerous curve to the right',\n",
        " 21: 'Double curve',\n",
        " 22: 'Bumpy road',\n",
        " 23: 'Slippery road',\n",
        " 24: 'Road narrows on the right',\n",
        " 25: 'Road work',\n",
        " 26: 'Traffic signals',\n",
        " 27: 'Pedestrians',\n",
        " 28: 'Children crossing',\n",
        " 29: 'Bicycles crossing',\n",
        " 30: 'Beware of ice/snow',\n",
        " 31: 'Wild animals crossing',\n",
        " 32: 'End of all speed and passing limits',\n",
        " 33: 'Turn right ahead',\n",
        " 34: 'Turn left ahead',\n",
        " 35: 'Ahead only',\n",
        " 36: 'Go straight or right',\n",
        " 37: 'Go straight or left',\n",
        " 38: 'Keep right',\n",
        " 39: 'Keep left',\n",
        " 40: 'Roundabout mandatory',\n",
        " 41: 'End of no passing',\n",
        " 42: 'End of no passing by vehicles over 3.5 metric tons'}"
      ],
      "execution_count": 24,
      "outputs": []
    },
    {
      "cell_type": "code",
      "metadata": {
        "colab": {
          "base_uri": "https://localhost:8080/",
          "height": 283
        },
        "id": "bU-fVf9wty2P",
        "outputId": "417fd795-80e4-4464-8919-aca10c0f6bc6"
      },
      "source": [
        "plt.imshow(x_train[9999]) # Show the image of index 9999"
      ],
      "execution_count": 25,
      "outputs": [
        {
          "output_type": "execute_result",
          "data": {
            "text/plain": [
              "<matplotlib.image.AxesImage at 0x7f61cdd7de50>"
            ]
          },
          "metadata": {
            "tags": []
          },
          "execution_count": 25
        },
        {
          "output_type": "display_data",
          "data": {
            "image/png": "[encoded data removed]",
            "text/plain": [
              "<Figure size 432x288 with 1 Axes>"
            ]
          },
          "metadata": {
            "tags": [],
            "needs_background": "light"
          }
        }
      ]
    },
    {
      "cell_type": "code",
      "metadata": {
        "colab": {
          "base_uri": "https://localhost:8080/",
          "height": 35
        },
        "id": "Xbok--QcuyHT",
        "outputId": "be103fac-bb0e-4ab4-a4f7-a51fe82815ef"
      },
      "source": [
        "classNames[y_train[9999]] # Labels of the image of index 9999 above"
      ],
      "execution_count": 26,
      "outputs": [
        {
          "output_type": "execute_result",
          "data": {
            "application/vnd.google.colaboratory.intrinsic+json": {
              "type": "string"
            },
            "text/plain": [
              "'Speed limit (20km/h)'"
            ]
          },
          "metadata": {
            "tags": []
          },
          "execution_count": 26
        }
      ]
    },
    {
      "cell_type": "code",
      "metadata": {
        "colab": {
          "base_uri": "https://localhost:8080/",
          "height": 283
        },
        "id": "OXu0u61iuL8m",
        "outputId": "f5fb7871-700d-4a40-a7cf-f20cefe1e951"
      },
      "source": [
        "plt.imshow(x_train[1]) # Show the image of index 1 (the second image)"
      ],
      "execution_count": 27,
      "outputs": [
        {
          "output_type": "execute_result",
          "data": {
            "text/plain": [
              "<matplotlib.image.AxesImage at 0x7f61cd370e90>"
            ]
          },
          "metadata": {
            "tags": []
          },
          "execution_count": 27
        },
        {
          "output_type": "display_data",
          "data": {
            "image/png": "[encoded data removed]",
            "text/plain": [
              "<Figure size 432x288 with 1 Axes>"
            ]
          },
          "metadata": {
            "tags": [],
            "needs_background": "light"
          }
        }
      ]
    },
    {
      "cell_type": "code",
      "metadata": {
        "colab": {
          "base_uri": "https://localhost:8080/",
          "height": 35
        },
        "id": "RT6gqPeyudEW",
        "outputId": "4e6108f4-afb5-4ba6-a11e-e881ddc94ec2"
      },
      "source": [
        "y_train[1] # Labels of the image of index 1 above, output = 41\n",
        "classNames[y_train[1]]"
      ],
      "execution_count": 28,
      "outputs": [
        {
          "output_type": "execute_result",
          "data": {
            "application/vnd.google.colaboratory.intrinsic+json": {
              "type": "string"
            },
            "text/plain": [
              "'End of no passing'"
            ]
          },
          "metadata": {
            "tags": []
          },
          "execution_count": 28
        }
      ]
    },
    {
      "cell_type": "markdown",
      "metadata": {
        "id": "4k8_7dAyuTC_"
      },
      "source": [
        "Conclusion:\n",
        "1.   The dataset has clear images with different backgrounds and colors. Therefore, it's very good for training.\n",
        "2.   Similar images are placed next to each other, therefore, we need to shuffle it for better generalization of learning.\n",
        "\n"
      ]
    },
    {
      "cell_type": "markdown",
      "metadata": {
        "id": "PGvJk_E8xqq9"
      },
      "source": [
        "## Shuffle the dataset"
      ]
    },
    {
      "cell_type": "code",
      "metadata": {
        "id": "UAh9EcbEw7oi"
      },
      "source": [
        "from sklearn.utils import shuffle"
      ],
      "execution_count": 29,
      "outputs": []
    },
    {
      "cell_type": "code",
      "metadata": {
        "id": "iJ01w_9M3r78"
      },
      "source": [
        "# Split validation set\n",
        "x_valid = valid['features']\n",
        "y_valid = valid['labels']\n",
        "# Split test set\n",
        "x_test = test['features']\n",
        "y_test = test['labels']"
      ],
      "execution_count": 30,
      "outputs": []
    },
    {
      "cell_type": "code",
      "metadata": {
        "id": "iSJ5__JYx-JV"
      },
      "source": [
        "x_train, y_train = shuffle(x_train, y_train)\n",
        "x_valid, y_valid = shuffle(x_valid, y_valid)\n",
        "x_test, y_test = shuffle(x_test, y_test)"
      ],
      "execution_count": 31,
      "outputs": []
    },
    {
      "cell_type": "code",
      "metadata": {
        "colab": {
          "base_uri": "https://localhost:8080/",
          "height": 283
        },
        "id": "c_leJprlyCc3",
        "outputId": "0d9ef86f-ee9c-4755-d4b9-acb84cac1dfe"
      },
      "source": [
        "plt.imshow(x_train[1]) # Check if the data has been shuffled"
      ],
      "execution_count": 32,
      "outputs": [
        {
          "output_type": "execute_result",
          "data": {
            "text/plain": [
              "<matplotlib.image.AxesImage at 0x7f61c65d7b50>"
            ]
          },
          "metadata": {
            "tags": []
          },
          "execution_count": 32
        },
        {
          "output_type": "display_data",
          "data": {
            "image/png": "[encoded data removed]",
            "text/plain": [
              "<Figure size 432x288 with 1 Axes>"
            ]
          },
          "metadata": {
            "tags": [],
            "needs_background": "light"
          }
        }
      ]
    },
    {
      "cell_type": "code",
      "metadata": {
        "colab": {
          "base_uri": "https://localhost:8080/",
          "height": 35
        },
        "id": "GXKlrr84yEXK",
        "outputId": "318e422b-cfe3-4a0c-b62f-e8808d4696e4"
      },
      "source": [
        "y_train[1] # Check the label, output = 9\n",
        "classNames[y_train[1]]"
      ],
      "execution_count": 33,
      "outputs": [
        {
          "output_type": "execute_result",
          "data": {
            "application/vnd.google.colaboratory.intrinsic+json": {
              "type": "string"
            },
            "text/plain": [
              "'Traffic signals'"
            ]
          },
          "metadata": {
            "tags": []
          },
          "execution_count": 33
        }
      ]
    },
    {
      "cell_type": "markdown",
      "metadata": {
        "id": "I3A7LseyfyL8"
      },
      "source": [
        "### Normalization (to values between 0 and 1)\n",
        "\n",
        "> Indented block\n",
        "\n"
      ]
    },
    {
      "cell_type": "code",
      "metadata": {
        "id": "-hI6byhDyO1-"
      },
      "source": [
        "x_train = x_train.astype(\"float\") / 225.0 # because 0 < each value < 255\n",
        "x_valid = x_valid.astype(\"float\") / 225.0\n",
        "x_test = x_test.astype(\"float\") / 225.0"
      ],
      "execution_count": 34,
      "outputs": []
    },
    {
      "cell_type": "code",
      "metadata": {
        "colab": {
          "base_uri": "https://localhost:8080/",
          "height": 0
        },
        "id": "R1kiwpjbgnup",
        "outputId": "78900453-e91b-4395-b04f-cefbf74de49c"
      },
      "source": [
        "x_train"
      ],
      "execution_count": 35,
      "outputs": [
        {
          "output_type": "execute_result",
          "data": {
            "text/plain": [
              "array([[[[0.34666667, 0.24888889, 0.18222222],\n",
              "         [0.28888889, 0.24      , 0.18222222],\n",
              "         [0.29777778, 0.25777778, 0.2       ],\n",
              "         ...,\n",
              "         [0.16444444, 0.14222222, 0.13777778],\n",
              "         [0.14666667, 0.12888889, 0.12888889],\n",
              "         [0.14666667, 0.13777778, 0.13333333]],\n",
              "\n",
              "        [[0.29333333, 0.21777778, 0.16444444],\n",
              "         [0.27111111, 0.22222222, 0.16888889],\n",
              "         [0.34666667, 0.27111111, 0.21777778],\n",
              "         ...,\n",
              "         [0.19111111, 0.16      , 0.15555556],\n",
              "         [0.15555556, 0.14222222, 0.13777778],\n",
              "         [0.15555556, 0.15111111, 0.14222222]],\n",
              "\n",
              "        [[0.28      , 0.18666667, 0.15111111],\n",
              "         [0.26666667, 0.19111111, 0.15555556],\n",
              "         [0.34666667, 0.25777778, 0.20888889],\n",
              "         ...,\n",
              "         [0.20888889, 0.19111111, 0.19111111],\n",
              "         [0.19555556, 0.18222222, 0.16888889],\n",
              "         [0.20444444, 0.2       , 0.18222222]],\n",
              "\n",
              "        ...,\n",
              "\n",
              "        [[0.41777778, 0.24888889, 0.18222222],\n",
              "         [0.41777778, 0.24888889, 0.19555556],\n",
              "         [0.41777778, 0.28888889, 0.25777778],\n",
              "         ...,\n",
              "         [0.43555556, 0.43111111, 0.50666667],\n",
              "         [0.31555556, 0.30666667, 0.36      ],\n",
              "         [0.20444444, 0.18666667, 0.19111111]],\n",
              "\n",
              "        [[0.38666667, 0.24444444, 0.18222222],\n",
              "         [0.40444444, 0.24888889, 0.22222222],\n",
              "         [0.43555556, 0.34666667, 0.37777778],\n",
              "         ...,\n",
              "         [0.48888889, 0.47111111, 0.56      ],\n",
              "         [0.32444444, 0.30222222, 0.34222222],\n",
              "         [0.22222222, 0.19111111, 0.2       ]],\n",
              "\n",
              "        [[0.32888889, 0.22222222, 0.17333333],\n",
              "         [0.33333333, 0.23111111, 0.23111111],\n",
              "         [0.33333333, 0.28      , 0.39555556],\n",
              "         ...,\n",
              "         [0.52888889, 0.49333333, 0.56444444],\n",
              "         [0.34666667, 0.30222222, 0.33777778],\n",
              "         [0.25333333, 0.20888889, 0.20444444]]],\n",
              "\n",
              "\n",
              "       [[[0.11555556, 0.11111111, 0.10666667],\n",
              "         [0.11555556, 0.11555556, 0.10222222],\n",
              "         [0.12      , 0.11555556, 0.09777778],\n",
              "         ...,\n",
              "         [0.11111111, 0.11111111, 0.11111111],\n",
              "         [0.12444444, 0.11111111, 0.11111111],\n",
              "         [0.12888889, 0.11555556, 0.11555556]],\n",
              "\n",
              "        [[0.12888889, 0.12888889, 0.12888889],\n",
              "         [0.13333333, 0.13333333, 0.12444444],\n",
              "         [0.12888889, 0.12444444, 0.11111111],\n",
              "         ...,\n",
              "         [0.11555556, 0.11111111, 0.11111111],\n",
              "         [0.12      , 0.10666667, 0.10222222],\n",
              "         [0.12      , 0.10666667, 0.10666667]],\n",
              "\n",
              "        [[0.16      , 0.16888889, 0.18222222],\n",
              "         [0.16888889, 0.17333333, 0.17333333],\n",
              "         [0.16444444, 0.16444444, 0.16444444],\n",
              "         ...,\n",
              "         [0.11555556, 0.11111111, 0.11111111],\n",
              "         [0.12      , 0.10666667, 0.10666667],\n",
              "         [0.12444444, 0.11111111, 0.11111111]],\n",
              "\n",
              "        ...,\n",
              "\n",
              "        [[0.13333333, 0.15111111, 0.15555556],\n",
              "         [0.14666667, 0.16      , 0.16888889],\n",
              "         [0.13333333, 0.14666667, 0.15555556],\n",
              "         ...,\n",
              "         [0.19111111, 0.11111111, 0.10666667],\n",
              "         [0.18222222, 0.10222222, 0.10222222],\n",
              "         [0.19111111, 0.11111111, 0.10666667]],\n",
              "\n",
              "        [[0.10666667, 0.11111111, 0.12      ],\n",
              "         [0.11111111, 0.10666667, 0.11555556],\n",
              "         [0.10222222, 0.10666667, 0.11111111],\n",
              "         ...,\n",
              "         [0.19111111, 0.11555556, 0.11111111],\n",
              "         [0.17777778, 0.10222222, 0.10666667],\n",
              "         [0.18222222, 0.10666667, 0.10666667]],\n",
              "\n",
              "        [[0.07555556, 0.07555556, 0.08      ],\n",
              "         [0.08      , 0.08      , 0.08444444],\n",
              "         [0.08      , 0.08      , 0.08444444],\n",
              "         ...,\n",
              "         [0.18222222, 0.11111111, 0.10222222],\n",
              "         [0.18222222, 0.10666667, 0.10222222],\n",
              "         [0.18666667, 0.11111111, 0.10666667]]],\n",
              "\n",
              "\n",
              "       [[[0.55111111, 0.66666667, 0.83555556],\n",
              "         [0.55111111, 0.66666667, 0.84      ],\n",
              "         [0.55555556, 0.67111111, 0.84888889],\n",
              "         ...,\n",
              "         [0.56444444, 0.68888889, 0.85333333],\n",
              "         [0.55555556, 0.68444444, 0.84888889],\n",
              "         [0.55555556, 0.68      , 0.84444444]],\n",
              "\n",
              "        [[0.54666667, 0.66666667, 0.84444444],\n",
              "         [0.55111111, 0.66666667, 0.84444444],\n",
              "         [0.55555556, 0.67111111, 0.85333333],\n",
              "         ...,\n",
              "         [0.56      , 0.67555556, 0.84      ],\n",
              "         [0.57333333, 0.68888889, 0.84888889],\n",
              "         [0.56      , 0.67555556, 0.84444444]],\n",
              "\n",
              "        [[0.54222222, 0.66666667, 0.84444444],\n",
              "         [0.54666667, 0.66666667, 0.84444444],\n",
              "         [0.55111111, 0.66666667, 0.84      ],\n",
              "         ...,\n",
              "         [0.56888889, 0.68      , 0.84      ],\n",
              "         [0.56444444, 0.67555556, 0.83555556],\n",
              "         [0.56444444, 0.67111111, 0.83555556]],\n",
              "\n",
              "        ...,\n",
              "\n",
              "        [[0.48444444, 0.58222222, 0.74666667],\n",
              "         [0.42222222, 0.52444444, 0.68444444],\n",
              "         [0.18666667, 0.28      , 0.37333333],\n",
              "         ...,\n",
              "         [0.49777778, 0.59555556, 0.73333333],\n",
              "         [0.49777778, 0.59555556, 0.73333333],\n",
              "         [0.49333333, 0.59555556, 0.73777778]],\n",
              "\n",
              "        [[0.47555556, 0.57333333, 0.72888889],\n",
              "         [0.42666667, 0.52444444, 0.68      ],\n",
              "         [0.17777778, 0.27555556, 0.36      ],\n",
              "         ...,\n",
              "         [0.49777778, 0.6       , 0.73777778],\n",
              "         [0.50222222, 0.59111111, 0.72888889],\n",
              "         [0.49333333, 0.59111111, 0.72888889]],\n",
              "\n",
              "        [[0.47111111, 0.56444444, 0.72      ],\n",
              "         [0.42666667, 0.52444444, 0.67555556],\n",
              "         [0.17333333, 0.27111111, 0.35555556],\n",
              "         ...,\n",
              "         [0.50222222, 0.59555556, 0.74222222],\n",
              "         [0.50666667, 0.59555556, 0.73777778],\n",
              "         [0.49333333, 0.59111111, 0.72888889]]],\n",
              "\n",
              "\n",
              "       ...,\n",
              "\n",
              "\n",
              "       [[[1.05333333, 0.89333333, 0.76888889],\n",
              "         [1.00888889, 0.50222222, 0.38666667],\n",
              "         [1.04888889, 0.42666667, 0.34666667],\n",
              "         ...,\n",
              "         [1.01777778, 0.46222222, 0.34666667],\n",
              "         [1.01333333, 0.45333333, 0.32888889],\n",
              "         [1.00888889, 0.44888889, 0.32      ]],\n",
              "\n",
              "        [[1.11555556, 1.08444444, 0.97777778],\n",
              "         [1.07111111, 0.89333333, 0.80444444],\n",
              "         [1.08444444, 0.8       , 0.76      ],\n",
              "         ...,\n",
              "         [1.08      , 0.96888889, 0.90666667],\n",
              "         [1.08      , 0.96444444, 0.90222222],\n",
              "         [1.07111111, 0.96444444, 0.90222222]],\n",
              "\n",
              "        [[0.84444444, 0.78222222, 0.69777778],\n",
              "         [0.84444444, 0.83111111, 0.75111111],\n",
              "         [0.98222222, 0.97333333, 0.87555556],\n",
              "         ...,\n",
              "         [1.08444444, 1.09333333, 0.93777778],\n",
              "         [1.05333333, 1.04      , 0.87555556],\n",
              "         [0.91555556, 0.95555556, 0.78666667]],\n",
              "\n",
              "        ...,\n",
              "\n",
              "        [[0.28444444, 0.33777778, 0.28      ],\n",
              "         [0.22666667, 0.25333333, 0.19111111],\n",
              "         [0.23555556, 0.32444444, 0.26222222],\n",
              "         ...,\n",
              "         [1.01777778, 0.95555556, 0.50222222],\n",
              "         [0.94666667, 0.92888889, 0.58222222],\n",
              "         [0.86666667, 0.91555556, 0.63555556]],\n",
              "\n",
              "        [[0.12888889, 0.12444444, 0.12444444],\n",
              "         [0.10222222, 0.13777778, 0.12888889],\n",
              "         [0.18222222, 0.27555556, 0.18666667],\n",
              "         ...,\n",
              "         [0.83111111, 0.79555556, 0.48444444],\n",
              "         [0.81333333, 0.84888889, 0.55111111],\n",
              "         [0.82666667, 0.89777778, 0.71111111]],\n",
              "\n",
              "        [[0.2       , 0.2       , 0.2       ],\n",
              "         [0.16      , 0.17777778, 0.14666667],\n",
              "         [0.29777778, 0.4       , 0.22666667],\n",
              "         ...,\n",
              "         [0.33333333, 0.38222222, 0.13777778],\n",
              "         [0.39555556, 0.43555556, 0.25333333],\n",
              "         [0.60888889, 0.57333333, 0.44888889]]],\n",
              "\n",
              "\n",
              "       [[[0.46222222, 0.36      , 0.34222222],\n",
              "         [0.45333333, 0.35111111, 0.32888889],\n",
              "         [0.47111111, 0.36444444, 0.34222222],\n",
              "         ...,\n",
              "         [0.25777778, 0.27555556, 0.28      ],\n",
              "         [0.23111111, 0.25333333, 0.25777778],\n",
              "         [0.23555556, 0.26666667, 0.27111111]],\n",
              "\n",
              "        [[0.48888889, 0.38222222, 0.36      ],\n",
              "         [0.48888889, 0.38666667, 0.34666667],\n",
              "         [0.49777778, 0.39111111, 0.35555556],\n",
              "         ...,\n",
              "         [0.30222222, 0.28888889, 0.28444444],\n",
              "         [0.26666667, 0.27111111, 0.26666667],\n",
              "         [0.24888889, 0.26666667, 0.26222222]],\n",
              "\n",
              "        [[0.49777778, 0.38666667, 0.34666667],\n",
              "         [0.50666667, 0.4       , 0.32888889],\n",
              "         [0.51111111, 0.4       , 0.34222222],\n",
              "         ...,\n",
              "         [0.35555556, 0.30666667, 0.29333333],\n",
              "         [0.29777778, 0.28      , 0.27555556],\n",
              "         [0.26222222, 0.26666667, 0.26222222]],\n",
              "\n",
              "        ...,\n",
              "\n",
              "        [[0.30222222, 0.31555556, 0.30666667],\n",
              "         [0.34666667, 0.33777778, 0.32444444],\n",
              "         [0.4       , 0.36444444, 0.34222222],\n",
              "         ...,\n",
              "         [0.50666667, 0.37333333, 0.34666667],\n",
              "         [0.49777778, 0.37333333, 0.34222222],\n",
              "         [0.48888889, 0.36      , 0.32888889]],\n",
              "\n",
              "        [[0.36      , 0.32888889, 0.32444444],\n",
              "         [0.39555556, 0.34666667, 0.34666667],\n",
              "         [0.42666667, 0.36888889, 0.35555556],\n",
              "         ...,\n",
              "         [0.51555556, 0.37777778, 0.35111111],\n",
              "         [0.50666667, 0.37333333, 0.34222222],\n",
              "         [0.50222222, 0.36444444, 0.33333333]],\n",
              "\n",
              "        [[0.41333333, 0.34222222, 0.33333333],\n",
              "         [0.43111111, 0.35555556, 0.34222222],\n",
              "         [0.44444444, 0.36      , 0.33777778],\n",
              "         ...,\n",
              "         [0.50666667, 0.36888889, 0.34222222],\n",
              "         [0.51555556, 0.37333333, 0.35111111],\n",
              "         [0.51111111, 0.36444444, 0.33777778]]],\n",
              "\n",
              "\n",
              "       [[[0.08444444, 0.08888889, 0.13333333],\n",
              "         [0.08      , 0.08888889, 0.14222222],\n",
              "         [0.08444444, 0.09333333, 0.13333333],\n",
              "         ...,\n",
              "         [0.21333333, 0.21333333, 0.24444444],\n",
              "         [0.26222222, 0.25333333, 0.27555556],\n",
              "         [0.32      , 0.31555556, 0.34222222]],\n",
              "\n",
              "        [[0.07555556, 0.07555556, 0.11111111],\n",
              "         [0.07111111, 0.07555556, 0.11111111],\n",
              "         [0.07555556, 0.08      , 0.11555556],\n",
              "         ...,\n",
              "         [0.18666667, 0.19111111, 0.22222222],\n",
              "         [0.22222222, 0.21777778, 0.24444444],\n",
              "         [0.24888889, 0.25777778, 0.28      ]],\n",
              "\n",
              "        [[0.08      , 0.08      , 0.10666667],\n",
              "         [0.07555556, 0.07555556, 0.10222222],\n",
              "         [0.08      , 0.08      , 0.10222222],\n",
              "         ...,\n",
              "         [0.19555556, 0.20444444, 0.24444444],\n",
              "         [0.21777778, 0.22666667, 0.26666667],\n",
              "         [0.25333333, 0.27111111, 0.29777778]],\n",
              "\n",
              "        ...,\n",
              "\n",
              "        [[0.11111111, 0.12444444, 0.13777778],\n",
              "         [0.10666667, 0.12      , 0.13777778],\n",
              "         [0.11111111, 0.12444444, 0.13333333],\n",
              "         ...,\n",
              "         [0.15555556, 0.17333333, 0.23111111],\n",
              "         [0.13777778, 0.16      , 0.20888889],\n",
              "         [0.11555556, 0.14222222, 0.17333333]],\n",
              "\n",
              "        [[0.11111111, 0.12888889, 0.13333333],\n",
              "         [0.11111111, 0.12444444, 0.12888889],\n",
              "         [0.11111111, 0.12      , 0.12888889],\n",
              "         ...,\n",
              "         [0.16888889, 0.17777778, 0.22666667],\n",
              "         [0.15555556, 0.17333333, 0.22222222],\n",
              "         [0.12888889, 0.15555556, 0.20444444]],\n",
              "\n",
              "        [[0.10666667, 0.12444444, 0.12888889],\n",
              "         [0.10666667, 0.12      , 0.12444444],\n",
              "         [0.11111111, 0.12      , 0.12444444],\n",
              "         ...,\n",
              "         [0.16      , 0.17777778, 0.22666667],\n",
              "         [0.15111111, 0.16888889, 0.21777778],\n",
              "         [0.12888889, 0.15555556, 0.20888889]]]])"
            ]
          },
          "metadata": {
            "tags": []
          },
          "execution_count": 35
        }
      ]
    },
    {
      "cell_type": "code",
      "metadata": {
        "id": "QqYMSjGCgo6X"
      },
      "source": [
        "from sklearn.preprocessing import LabelBinarizer"
      ],
      "execution_count": 36,
      "outputs": []
    },
    {
      "cell_type": "code",
      "metadata": {
        "id": "5uMmxMDLgzUu"
      },
      "source": [
        "lb = LabelBinarizer()"
      ],
      "execution_count": 37,
      "outputs": []
    },
    {
      "cell_type": "markdown",
      "metadata": {
        "id": "uIhxqMYajBrC"
      },
      "source": [
        "#### Normalize labels by extracting and adding columns or values in an array"
      ]
    },
    {
      "cell_type": "code",
      "metadata": {
        "id": "8hd2IhvqiZsM"
      },
      "source": [
        "y_train = lb.fit_transform(y_train)"
      ],
      "execution_count": 38,
      "outputs": []
    },
    {
      "cell_type": "code",
      "metadata": {
        "id": "kbc9anZ1ipkb"
      },
      "source": [
        "y_valid = lb.fit_transform(y_valid)"
      ],
      "execution_count": 39,
      "outputs": []
    },
    {
      "cell_type": "code",
      "metadata": {
        "id": "fCi7jhEkitsF"
      },
      "source": [
        "y_test = lb.fit_transform(y_test)"
      ],
      "execution_count": 40,
      "outputs": []
    },
    {
      "cell_type": "code",
      "metadata": {
        "colab": {
          "base_uri": "https://localhost:8080/",
          "height": 0
        },
        "id": "_pXR0tzLiwZm",
        "outputId": "3f467917-040e-4ccf-e106-3fcfc54e7cbf"
      },
      "source": [
        "y_train[0] \n",
        "# instead of having 9 as output, it creates an array with all possible labels and put 1 in the position of \n",
        "# the correct labels and 0s for other ones"
      ],
      "execution_count": 41,
      "outputs": [
        {
          "output_type": "execute_result",
          "data": {
            "text/plain": [
              "array([0, 0, 0, 0, 0, 0, 0, 0, 0, 0, 0, 0, 0, 0, 0, 0, 0, 0, 0, 0, 0, 0,\n",
              "       0, 0, 0, 1, 0, 0, 0, 0, 0, 0, 0, 0, 0, 0, 0, 0, 0, 0, 0, 0, 0])"
            ]
          },
          "metadata": {
            "tags": []
          },
          "execution_count": 41
        }
      ]
    },
    {
      "cell_type": "code",
      "metadata": {
        "id": "a0V4UJu1i2Xq"
      },
      "source": [
        "from tensorflow.keras.models import Model, Sequential\n",
        "from tensorflow.keras.layers import BatchNormalization, AveragePooling2D, MaxPooling2D, Conv2D\n",
        "from tensorflow.keras.layers import Activation, Dropout, Flatten, Input, Dense, concatenate\n",
        "from tensorflow.keras.preprocessing.image import ImageDataGenerator\n",
        "from tensorflow.keras.optimizers import SGD"
      ],
      "execution_count": 42,
      "outputs": []
    },
    {
      "cell_type": "code",
      "metadata": {
        "id": "BjIStPOblbiw"
      },
      "source": [
        "width = 32\n",
        "height = 32\n",
        "classes = 43"
      ],
      "execution_count": 44,
      "outputs": []
    },
    {
      "cell_type": "code",
      "metadata": {
        "id": "69hnpaWrVu0t"
      },
      "source": [
        "shape = (width, height, 3)"
      ],
      "execution_count": 45,
      "outputs": []
    },
    {
      "cell_type": "markdown",
      "metadata": {
        "id": "yXqP5sKwFuB-"
      },
      "source": [
        "More about Sequential() model in keras: https://stackoverflow.com/questions/57751417/what-is-meant-by-sequential-model-in-keras"
      ]
    },
    {
      "cell_type": "code",
      "metadata": {
        "id": "HquitN1Yj-iI"
      },
      "source": [
        "model = Sequential([\n",
        "  Conv2D(32, (3, 3), padding=\"same\", input_shape=shape),\n",
        "  Activation(\"relu\"),\n",
        "  BatchNormalization(),\n",
        "  Conv2D(32, (3, 3), padding=\"same\"),\n",
        "  Activation(\"relu\"),\n",
        "  BatchNormalization(),\n",
        "  MaxPooling2D(pool_size=(2,2)),\n",
        "  # Create the structure for DL model and nodes (not trained yet)\n",
        "  # There are two ways to create the structure for DL model: this one and use the add() function below\n",
        "  # Be careful with the order\n",
        "]) "
      ],
      "execution_count": 104,
      "outputs": []
    },
    {
      "cell_type": "code",
      "metadata": {
        "id": "z6-QRL0-hhlX"
      },
      "source": [
        "#model.add(Conv2D(32, (3, 3), padding=\"same\", input_shape=shape))"
      ],
      "execution_count": 46,
      "outputs": []
    },
    {
      "cell_type": "code",
      "metadata": {
        "id": "L4NhScTTjilb"
      },
      "source": [
        "#model.add(Activation(\"relu\"))"
      ],
      "execution_count": 47,
      "outputs": []
    },
    {
      "cell_type": "code",
      "metadata": {
        "id": "a6liTuAenfdQ"
      },
      "source": [
        "#model.add(BatchNormalization())"
      ],
      "execution_count": 48,
      "outputs": []
    },
    {
      "cell_type": "code",
      "metadata": {
        "id": "H-bCxEOdo6tY"
      },
      "source": [
        "#model.add(Conv2D(32, (3, 3), padding=\"same\"))"
      ],
      "execution_count": 49,
      "outputs": []
    },
    {
      "cell_type": "code",
      "metadata": {
        "id": "BfVs91kOo-ug"
      },
      "source": [
        "#model.add(Activation(\"relu\"))"
      ],
      "execution_count": 50,
      "outputs": []
    },
    {
      "cell_type": "code",
      "metadata": {
        "id": "Hs7tp54opA30"
      },
      "source": [
        "#model.add(BatchNormalization())"
      ],
      "execution_count": 103,
      "outputs": []
    },
    {
      "cell_type": "code",
      "metadata": {
        "id": "TtNV-fgZpCWy"
      },
      "source": [
        "#model.add(MaxPooling2D(pool_size=(2,2)))"
      ],
      "execution_count": 52,
      "outputs": []
    },
    {
      "cell_type": "code",
      "metadata": {
        "id": "ZePzkcxttaxE"
      },
      "source": [
        "model.add(Conv2D(64, (3, 3), padding=\"same\"))"
      ],
      "execution_count": 105,
      "outputs": []
    },
    {
      "cell_type": "code",
      "metadata": {
        "id": "uhPJeaKK1Zbq"
      },
      "source": [
        "model.add(Activation(\"relu\"))"
      ],
      "execution_count": 106,
      "outputs": []
    },
    {
      "cell_type": "code",
      "metadata": {
        "id": "VbSi1_wk1awC"
      },
      "source": [
        "model.add(BatchNormalization())"
      ],
      "execution_count": 107,
      "outputs": []
    },
    {
      "cell_type": "code",
      "metadata": {
        "id": "tToIkZxx1cCP"
      },
      "source": [
        "model.add(Conv2D(64, (3, 3), padding=\"same\"))"
      ],
      "execution_count": 108,
      "outputs": []
    },
    {
      "cell_type": "code",
      "metadata": {
        "id": "uSNes9rn1e1J"
      },
      "source": [
        "model.add(Activation(\"relu\"))"
      ],
      "execution_count": 109,
      "outputs": []
    },
    {
      "cell_type": "code",
      "metadata": {
        "id": "avy-OC6W1gfK"
      },
      "source": [
        "model.add(BatchNormalization())"
      ],
      "execution_count": 110,
      "outputs": []
    },
    {
      "cell_type": "code",
      "metadata": {
        "id": "a5ypw0Ry1h6a"
      },
      "source": [
        "model.add(MaxPooling2D(pool_size=(2,2)))"
      ],
      "execution_count": 111,
      "outputs": []
    },
    {
      "cell_type": "code",
      "metadata": {
        "id": "Ao4F3BYJ18vY"
      },
      "source": [
        "model.add(Flatten())"
      ],
      "execution_count": 112,
      "outputs": []
    },
    {
      "cell_type": "code",
      "metadata": {
        "id": "FQymSAgR3zih"
      },
      "source": [
        "model.add(Dense(512))"
      ],
      "execution_count": 113,
      "outputs": []
    },
    {
      "cell_type": "code",
      "metadata": {
        "id": "BMJwKa0532_J"
      },
      "source": [
        "model.add(Activation(\"relu\"))"
      ],
      "execution_count": 114,
      "outputs": []
    },
    {
      "cell_type": "code",
      "metadata": {
        "id": "ht7J6f4K39ab"
      },
      "source": [
        "model.add(BatchNormalization())"
      ],
      "execution_count": 115,
      "outputs": []
    },
    {
      "cell_type": "code",
      "metadata": {
        "id": "a4JPZPsM4AlF"
      },
      "source": [
        "model.add(Dense(classes))"
      ],
      "execution_count": 116,
      "outputs": []
    },
    {
      "cell_type": "code",
      "metadata": {
        "id": "JM4CUk9U4Ii6"
      },
      "source": [
        "model.add(Activation(\"softmax\"))"
      ],
      "execution_count": 117,
      "outputs": []
    },
    {
      "cell_type": "code",
      "metadata": {
        "id": "6_q68OwOhtt9",
        "colab": {
          "base_uri": "https://localhost:8080/",
          "height": 0
        },
        "outputId": "38fba240-755f-4b5b-bba1-113c683073fb"
      },
      "source": [
        "model.summary()"
      ],
      "execution_count": 118,
      "outputs": [
        {
          "output_type": "stream",
          "text": [
            "Model: \"sequential_1\"\n",
            "_________________________________________________________________\n",
            "Layer (type)                 Output Shape              Param #   \n",
            "=================================================================\n",
            "conv2d_4 (Conv2D)            (None, 32, 32, 32)        896       \n",
            "_________________________________________________________________\n",
            "activation_6 (Activation)    (None, 32, 32, 32)        0         \n",
            "_________________________________________________________________\n",
            "batch_normalization_6 (Batch (None, 32, 32, 32)        128       \n",
            "_________________________________________________________________\n",
            "conv2d_5 (Conv2D)            (None, 32, 32, 32)        9248      \n",
            "_________________________________________________________________\n",
            "activation_7 (Activation)    (None, 32, 32, 32)        0         \n",
            "_________________________________________________________________\n",
            "batch_normalization_7 (Batch (None, 32, 32, 32)        128       \n",
            "_________________________________________________________________\n",
            "max_pooling2d_2 (MaxPooling2 (None, 16, 16, 32)        0         \n",
            "_________________________________________________________________\n",
            "conv2d_6 (Conv2D)            (None, 16, 16, 64)        18496     \n",
            "_________________________________________________________________\n",
            "activation_8 (Activation)    (None, 16, 16, 64)        0         \n",
            "_________________________________________________________________\n",
            "batch_normalization_8 (Batch (None, 16, 16, 64)        256       \n",
            "_________________________________________________________________\n",
            "conv2d_7 (Conv2D)            (None, 16, 16, 64)        36928     \n",
            "_________________________________________________________________\n",
            "activation_9 (Activation)    (None, 16, 16, 64)        0         \n",
            "_________________________________________________________________\n",
            "batch_normalization_9 (Batch (None, 16, 16, 64)        256       \n",
            "_________________________________________________________________\n",
            "max_pooling2d_3 (MaxPooling2 (None, 8, 8, 64)          0         \n",
            "_________________________________________________________________\n",
            "flatten_1 (Flatten)          (None, 4096)              0         \n",
            "_________________________________________________________________\n",
            "dense_2 (Dense)              (None, 512)               2097664   \n",
            "_________________________________________________________________\n",
            "activation_10 (Activation)   (None, 512)               0         \n",
            "_________________________________________________________________\n",
            "batch_normalization_10 (Batc (None, 512)               2048      \n",
            "_________________________________________________________________\n",
            "dense_3 (Dense)              (None, 43)                22059     \n",
            "_________________________________________________________________\n",
            "activation_11 (Activation)   (None, 43)                0         \n",
            "=================================================================\n",
            "Total params: 2,188,107\n",
            "Trainable params: 2,186,699\n",
            "Non-trainable params: 1,408\n",
            "_________________________________________________________________\n"
          ],
          "name": "stdout"
        }
      ]
    },
    {
      "cell_type": "markdown",
      "metadata": {
        "id": "zOKNauaC1o63"
      },
      "source": [
        "Param is the numbers of parameters to learn. MaxPooling doesn't need to learn anything (just find max), therefore, the number of params is 0."
      ]
    },
    {
      "cell_type": "code",
      "metadata": {
        "id": "_hpMf45e11r4"
      },
      "source": [
        "# Học tăng cường bằng cách xoay ảnh ngang dọc, phóng to, di chuyển, etc. để máy học nhiều trạng thái của cùng 1 object trong một bức ảnh\n",
        "aug = ImageDataGenerator(rotation_range=0.18, zoom_range=0.15, width_shift_range=0.2, height_shift_range=0.2, horizontal_flip=True)"
      ],
      "execution_count": 67,
      "outputs": []
    },
    {
      "cell_type": "code",
      "metadata": {
        "id": "OxHRDksM7m7K"
      },
      "source": [
        "learning_rate = .01 # low => learn slower, high => can't find the optimal point (global maxima)"
      ],
      "execution_count": 68,
      "outputs": []
    },
    {
      "cell_type": "code",
      "metadata": {
        "id": "hPoL82me70Cw"
      },
      "source": [
        "epochs = 10 # run 10 times\n",
        "# epoch \n",
        "# Steps\n",
        "# \n",
        "batch_size = 64 # run just a part of data in each step to save resources"
      ],
      "execution_count": 69,
      "outputs": []
    },
    {
      "cell_type": "code",
      "metadata": {
        "id": "vqVdh5Dl4Ztm"
      },
      "source": [
        "opt = SGD(learning_rate=learning_rate, momentum=0.9)"
      ],
      "execution_count": 70,
      "outputs": []
    },
    {
      "cell_type": "code",
      "metadata": {
        "id": "Afb3-sRs4j_p"
      },
      "source": [
        "model.compile(optimizer=opt, loss=\"categorical_crossentropy\", metrics=[\"accuracy\"])"
      ],
      "execution_count": 71,
      "outputs": []
    },
    {
      "cell_type": "code",
      "metadata": {
        "colab": {
          "base_uri": "https://localhost:8080/",
          "height": 0
        },
        "id": "YrZqexJc-kXg",
        "outputId": "64359414-e70b-4a3c-99a5-72e7c1b5fdd7"
      },
      "source": [
        "print(\"Start training\")\n",
        "H = model.fit_generator(aug.flow(x_train, y_train, batch_size=64), validation_data=(x_valid, y_valid), steps_per_epoch=x_train.shape[0]//batch_size, epochs=epochs, verbose=1)"
      ],
      "execution_count": 72,
      "outputs": [
        {
          "output_type": "stream",
          "text": [
            "Start training\n"
          ],
          "name": "stdout"
        },
        {
          "output_type": "stream",
          "text": [
            "/usr/local/lib/python3.7/dist-packages/tensorflow/python/keras/engine/training.py:1940: UserWarning: `Model.fit_generator` is deprecated and will be removed in a future version. Please use `Model.fit`, which supports generators.\n",
            "  warnings.warn('`Model.fit_generator` is deprecated and '\n"
          ],
          "name": "stderr"
        },
        {
          "output_type": "stream",
          "text": [
            "Epoch 1/10\n",
            "543/543 [==============================] - 235s 430ms/step - loss: 1.9037 - accuracy: 0.4520 - val_loss: 2.0001 - val_accuracy: 0.4943\n",
            "Epoch 2/10\n",
            "543/543 [==============================] - 234s 431ms/step - loss: 0.7316 - accuracy: 0.7604 - val_loss: 1.1734 - val_accuracy: 0.6649\n",
            "Epoch 3/10\n",
            "543/543 [==============================] - 234s 430ms/step - loss: 0.3783 - accuracy: 0.8751 - val_loss: 0.8508 - val_accuracy: 0.7522\n",
            "Epoch 4/10\n",
            "543/543 [==============================] - 234s 432ms/step - loss: 0.2442 - accuracy: 0.9210 - val_loss: 0.8848 - val_accuracy: 0.7701\n",
            "Epoch 5/10\n",
            "543/543 [==============================] - 233s 430ms/step - loss: 0.1664 - accuracy: 0.9463 - val_loss: 0.6998 - val_accuracy: 0.8204\n",
            "Epoch 6/10\n",
            "543/543 [==============================] - 233s 429ms/step - loss: 0.1316 - accuracy: 0.9585 - val_loss: 0.6413 - val_accuracy: 0.8422\n",
            "Epoch 7/10\n",
            "543/543 [==============================] - 232s 428ms/step - loss: 0.1055 - accuracy: 0.9673 - val_loss: 0.6106 - val_accuracy: 0.8485\n",
            "Epoch 8/10\n",
            "543/543 [==============================] - 232s 428ms/step - loss: 0.0820 - accuracy: 0.9743 - val_loss: 0.6751 - val_accuracy: 0.8544\n",
            "Epoch 9/10\n",
            "543/543 [==============================] - 232s 428ms/step - loss: 0.0720 - accuracy: 0.9775 - val_loss: 0.5857 - val_accuracy: 0.8576\n",
            "Epoch 10/10\n",
            "543/543 [==============================] - 231s 426ms/step - loss: 0.0637 - accuracy: 0.9799 - val_loss: 0.5837 - val_accuracy: 0.8667\n"
          ],
          "name": "stdout"
        }
      ]
    },
    {
      "cell_type": "code",
      "metadata": {
        "id": "1AmbldkVF9vD"
      },
      "source": [
        "model.save(\"Traffic-signals.h5\") # h5 is the format of keras"
      ],
      "execution_count": 75,
      "outputs": []
    },
    {
      "cell_type": "code",
      "metadata": {
        "id": "kjygY6LLM2bJ",
        "colab": {
          "base_uri": "https://localhost:8080/"
        },
        "outputId": "d14c7785-0cf2-41e5-82d0-9ed0334305e8"
      },
      "source": [
        "model"
      ],
      "execution_count": null,
      "outputs": [
        {
          "output_type": "execute_result",
          "data": {
            "text/plain": [
              "<tensorflow.python.keras.engine.sequential.Sequential at 0x7f6fff54d990>"
            ]
          },
          "metadata": {
            "tags": []
          },
          "execution_count": 174
        }
      ]
    },
    {
      "cell_type": "code",
      "metadata": {
        "id": "p31aw7raA6Hi"
      },
      "source": [
        "saved_model = tf.keras.models.load_model(\"Traffic-signals.h5\")"
      ],
      "execution_count": 76,
      "outputs": []
    },
    {
      "cell_type": "code",
      "metadata": {
        "id": "NtU4V59QBLNy"
      },
      "source": [
        "import numpy as np"
      ],
      "execution_count": 79,
      "outputs": []
    },
    {
      "cell_type": "code",
      "metadata": {
        "id": "XRjKhkVbLacH"
      },
      "source": [
        "# Test prediction\n",
        "predict = model.predict(x_test[200:201])"
      ],
      "execution_count": 88,
      "outputs": []
    },
    {
      "cell_type": "code",
      "metadata": {
        "colab": {
          "base_uri": "https://localhost:8080/",
          "height": 0
        },
        "id": "xZ4iHqtILfhc",
        "outputId": "6d707fda-a790-4313-f4e3-48a0d60ea91f"
      },
      "source": [
        "predict #softmax results (between 0 and 1, the largest one is the predicted label)"
      ],
      "execution_count": 89,
      "outputs": [
        {
          "output_type": "execute_result",
          "data": {
            "text/plain": [
              "array([[2.0193817e-10, 4.2867906e-13, 1.4988156e-09, 7.5752652e-08,\n",
              "        5.6249282e-16, 1.6457039e-12, 3.4042478e-09, 2.1409345e-17,\n",
              "        8.8683305e-12, 3.1853169e-11, 5.2883919e-10, 9.3085711e-15,\n",
              "        3.4471818e-13, 1.0372935e-15, 1.0662792e-13, 5.9760134e-11,\n",
              "        3.4544416e-13, 8.2826905e-11, 2.0232576e-09, 2.6373710e-09,\n",
              "        3.7063533e-08, 6.2072905e-07, 2.4204776e-06, 3.4309218e-07,\n",
              "        1.3930233e-10, 1.2675115e-09, 4.0593497e-09, 2.9050020e-12,\n",
              "        6.7403408e-07, 7.7982194e-04, 1.4965781e-10, 9.9921596e-01,\n",
              "        7.5648147e-11, 2.0879045e-13, 1.9398489e-12, 5.8390822e-15,\n",
              "        1.5585355e-14, 2.2380761e-10, 2.7879400e-14, 3.1290203e-11,\n",
              "        1.8308501e-10, 1.1115454e-10, 1.3599405e-12]], dtype=float32)"
            ]
          },
          "metadata": {
            "tags": []
          },
          "execution_count": 89
        }
      ]
    },
    {
      "cell_type": "code",
      "metadata": {
        "id": "N867j-CvBQ-A"
      },
      "source": [
        "final1 = np.argmax(predict)"
      ],
      "execution_count": 90,
      "outputs": []
    },
    {
      "cell_type": "code",
      "metadata": {
        "id": "bdSaJ5CUBTS5"
      },
      "source": [
        "final1 = classNames[final1]"
      ],
      "execution_count": 91,
      "outputs": []
    },
    {
      "cell_type": "code",
      "metadata": {
        "id": "kueRYFTfBV5H",
        "colab": {
          "base_uri": "https://localhost:8080/",
          "height": 35
        },
        "outputId": "45a7b889-16ad-444b-fb11-4d195c914e8e"
      },
      "source": [
        "final1"
      ],
      "execution_count": 92,
      "outputs": [
        {
          "output_type": "execute_result",
          "data": {
            "application/vnd.google.colaboratory.intrinsic+json": {
              "type": "string"
            },
            "text/plain": [
              "'Wild animals crossing'"
            ]
          },
          "metadata": {
            "tags": []
          },
          "execution_count": 92
        }
      ]
    },
    {
      "cell_type": "code",
      "metadata": {
        "id": "XBv8yxDwBWnu",
        "colab": {
          "base_uri": "https://localhost:8080/",
          "height": 283
        },
        "outputId": "d2a1f91f-8b83-45dc-c0ae-b8bef1281712"
      },
      "source": [
        "plt.imshow(x_test[200])"
      ],
      "execution_count": 96,
      "outputs": [
        {
          "output_type": "execute_result",
          "data": {
            "text/plain": [
              "<matplotlib.image.AxesImage at 0x7f61ba670810>"
            ]
          },
          "metadata": {
            "tags": []
          },
          "execution_count": 96
        },
        {
          "output_type": "display_data",
          "data": {
            "image/png": "[encoded data removed]",
            "text/plain": [
              "<Figure size 432x288 with 1 Axes>"
            ]
          },
          "metadata": {
            "tags": [],
            "needs_background": "light"
          }
        }
      ]
    },
    {
      "cell_type": "code",
      "metadata": {
        "id": "s8Pe-ZrC3wTl"
      },
      "source": [
        "# Second prediction\n",
        "prediction = saved_model.predict(x_test[80:81])"
      ],
      "execution_count": 97,
      "outputs": []
    },
    {
      "cell_type": "code",
      "metadata": {
        "colab": {
          "base_uri": "https://localhost:8080/",
          "height": 0
        },
        "id": "WKpS36UQ34KF",
        "outputId": "11a6903b-581e-4517-c3e7-c607e77b2c73"
      },
      "source": [
        "prediction"
      ],
      "execution_count": 98,
      "outputs": [
        {
          "output_type": "execute_result",
          "data": {
            "text/plain": [
              "array([[1.9458818e-07, 7.8580840e-12, 2.1966057e-08, 1.0056483e-09,\n",
              "        5.0418745e-05, 4.4846354e-05, 2.7974053e-07, 1.6569537e-04,\n",
              "        1.7214753e-03, 1.6792260e-06, 1.0402591e-07, 1.5824124e-08,\n",
              "        2.4662317e-08, 2.2748003e-08, 2.2220082e-07, 4.8572248e-09,\n",
              "        5.7527732e-06, 7.4086829e-06, 3.0046827e-09, 4.4393651e-08,\n",
              "        9.0911872e-06, 2.5306396e-10, 5.7379648e-09, 1.2290742e-08,\n",
              "        4.7677336e-08, 1.1034805e-08, 2.1693496e-07, 6.8614616e-09,\n",
              "        4.1331119e-10, 1.6404580e-10, 1.3882084e-06, 1.2751926e-09,\n",
              "        4.9692059e-09, 1.5019799e-05, 1.6025122e-02, 5.5993593e-04,\n",
              "        7.5926647e-07, 1.5340174e-03, 2.4629754e-03, 3.7664947e-06,\n",
              "        9.7737807e-01, 9.5348723e-06, 1.7534412e-06]], dtype=float32)"
            ]
          },
          "metadata": {
            "tags": []
          },
          "execution_count": 98
        }
      ]
    },
    {
      "cell_type": "code",
      "metadata": {
        "id": "9r4mVgVOI8_Y"
      },
      "source": [
        "final2 = np.argmax(prediction)"
      ],
      "execution_count": 99,
      "outputs": []
    },
    {
      "cell_type": "code",
      "metadata": {
        "id": "HUToqoVC4Lhn"
      },
      "source": [
        "final2 = classNames[final2]"
      ],
      "execution_count": 100,
      "outputs": []
    },
    {
      "cell_type": "code",
      "metadata": {
        "colab": {
          "base_uri": "https://localhost:8080/",
          "height": 35
        },
        "id": "Y4I6F6fb4O4w",
        "outputId": "b1333bf8-54a3-479f-daaa-ef5b6d97e7ec"
      },
      "source": [
        "final2"
      ],
      "execution_count": 101,
      "outputs": [
        {
          "output_type": "execute_result",
          "data": {
            "application/vnd.google.colaboratory.intrinsic+json": {
              "type": "string"
            },
            "text/plain": [
              "'Roundabout mandatory'"
            ]
          },
          "metadata": {
            "tags": []
          },
          "execution_count": 101
        }
      ]
    },
    {
      "cell_type": "code",
      "metadata": {
        "colab": {
          "base_uri": "https://localhost:8080/",
          "height": 283
        },
        "id": "fL7Glj_X4Pgm",
        "outputId": "5847c560-5982-458e-f5b9-a25730686d25"
      },
      "source": [
        "plt.imshow(x_test[80])"
      ],
      "execution_count": 102,
      "outputs": [
        {
          "output_type": "execute_result",
          "data": {
            "text/plain": [
              "<matplotlib.image.AxesImage at 0x7f61ba6097d0>"
            ]
          },
          "metadata": {
            "tags": []
          },
          "execution_count": 102
        },
        {
          "output_type": "display_data",
          "data": {
            "image/png": "[encoded data removed]",
            "text/plain": [
              "<Figure size 432x288 with 1 Axes>"
            ]
          },
          "metadata": {
            "tags": [],
            "needs_background": "light"
          }
        }
      ]
    },
    {
      "cell_type": "markdown",
      "metadata": {
        "id": "QMA5VsF7A0nT"
      },
      "source": [
        "Link instruction file: https://docs.google.com/document/d/1mkgS4ZKO3kPrdZDlLHYe_XJVI_VmoYEtj0ilNNbfC9E/edit"
      ]
    }
  ]
}